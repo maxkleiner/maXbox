{
  "nbformat": 4,
  "nbformat_minor": 0,
  "metadata": {
    "colab": {
      "name": "logisticregression.ipynb",
      "provenance": [],
      "collapsed_sections": [],
      "authorship_tag": "ABX9TyOVYWXo8T2P0ORoZdZvs/8K",
      "include_colab_link": true
    },
    "kernelspec": {
      "name": "python3",
      "display_name": "Python 3"
    }
  },
  "cells": [
    {
      "cell_type": "markdown",
      "metadata": {
        "id": "view-in-github",
        "colab_type": "text"
      },
      "source": [
        "<a href=\"https://colab.research.google.com/github/maxkleiner/maXbox/blob/master/logisticregression2.ipynb\" target=\"_parent\"><img src=\"https://colab.research.google.com/assets/colab-badge.svg\" alt=\"Open In Colab\"/></a>"
      ]
    },
    {
      "cell_type": "code",
      "metadata": {
        "id": "MS7JmmTjexlp",
        "colab_type": "code",
        "colab": {}
      },
      "source": [
        "import matplotlib.pyplot as plt\n",
        "import numpy as np\n",
        "import pandas as pd\n",
        "from sklearn.linear_model import LogisticRegression\n",
        "from sklearn.metrics import classification_report, confusion_matrix\n",
        "# https://realpython.com/logistic-regression-python/\n"
      ],
      "execution_count": 0,
      "outputs": []
    },
    {
      "cell_type": "markdown",
      "metadata": {
        "id": "Qm0fdjWKfJhM",
        "colab_type": "text"
      },
      "source": [
        "# For the purpose of this visual classification example, let’s just create arrays for the input (𝑥) and output (𝑦) values:\n"
      ]
    },
    {
      "cell_type": "code",
      "metadata": {
        "id": "8ySq6OeEfNI7",
        "colab_type": "code",
        "outputId": "f36185c2-d086-4244-fda8-efd1632cf034",
        "colab": {
          "base_uri": "https://localhost:8080/",
          "height": 203
        }
      },
      "source": [
        "X = np.arange(10).reshape(-1, 1)\n",
        "y = np.array([0, 0, 0, 0, 1, 1, 1, 1, 1, 1])\n",
        "#y = np.array([0, 1, 0,1, 1, 1, 1, 1, 0, 1])\n",
        "print(X)\n"
      ],
      "execution_count": 3,
      "outputs": [
        {
          "output_type": "stream",
          "text": [
            "[[0]\n",
            " [1]\n",
            " [2]\n",
            " [3]\n",
            " [4]\n",
            " [5]\n",
            " [6]\n",
            " [7]\n",
            " [8]\n",
            " [9]]\n"
          ],
          "name": "stdout"
        }
      ]
    },
    {
      "cell_type": "markdown",
      "metadata": {
        "id": "lMPVXyepfYoB",
        "colab_type": "text"
      },
      "source": [
        "# The array X is required to be two-dimensional as matrix. \n",
        "# Once you have the input and output prepared, you can create and define your classification model.\n",
        "# Other solver options are 'newton-cg', 'lbfgs', 'sag', and 'saga'.\n"
      ]
    },
    {
      "cell_type": "code",
      "metadata": {
        "id": "pGBk1ps8ffk0",
        "colab_type": "code",
        "outputId": "319f714d-9bea-49d0-de2e-90565b9037ac",
        "colab": {
          "base_uri": "https://localhost:8080/",
          "height": 110
        }
      },
      "source": [
        "model = LogisticRegression(solver='liblinear', random_state=0)\n",
        "model.fit(X, y)\n",
        "print(model)"
      ],
      "execution_count": 4,
      "outputs": [
        {
          "output_type": "stream",
          "text": [
            "LogisticRegression(C=1.0, class_weight=None, dual=False, fit_intercept=True,\n",
            "                   intercept_scaling=1, l1_ratio=None, max_iter=100,\n",
            "                   multi_class='auto', n_jobs=None, penalty='l2',\n",
            "                   random_state=0, solver='liblinear', tol=0.0001, verbose=0,\n",
            "                   warm_start=False)\n"
          ],
          "name": "stdout"
        }
      ]
    },
    {
      "cell_type": "code",
      "metadata": {
        "id": "LGjdypm8fyq6",
        "colab_type": "code",
        "outputId": "c867decf-f160-445c-ab3b-b171913e1aec",
        "colab": {
          "base_uri": "https://localhost:8080/",
          "height": 314
        }
      },
      "source": [
        "model = LogisticRegression(solver='liblinear', C=1, random_state=0).fit(X, y)\n",
        "\n",
        "print(model.intercept_)\n",
        "#array([-1.04608067])\n",
        "print(model.coef_,'\\n')\n",
        "# The first column is the probability of the predicted output being zero, that is 1 - 𝑝(𝑥). \n",
        "# The second column is the probability that the output is one, or 𝑝(𝑥).\n",
        "print(model.predict_proba(X),'\\n')\n",
        "\n",
        "print('predict:',model.predict(X))\n",
        "print('score:  ',model.score(X, y))\n"
      ],
      "execution_count": 5,
      "outputs": [
        {
          "output_type": "stream",
          "text": [
            "[-1.04608067]\n",
            "[[0.51491375]] \n",
            "\n",
            "[[0.74002157 0.25997843]\n",
            " [0.62975524 0.37024476]\n",
            " [0.5040632  0.4959368 ]\n",
            " [0.37785549 0.62214451]\n",
            " [0.26628093 0.73371907]\n",
            " [0.17821501 0.82178499]\n",
            " [0.11472079 0.88527921]\n",
            " [0.07186982 0.92813018]\n",
            " [0.04422513 0.95577487]\n",
            " [0.02690569 0.97309431]] \n",
            "\n",
            "predict: [0 0 0 1 1 1 1 1 1 1]\n",
            "score:   0.9\n"
          ],
          "name": "stdout"
        }
      ]
    },
    {
      "cell_type": "code",
      "metadata": {
        "id": "BZH2sNCTzxNV",
        "colab_type": "code",
        "colab": {}
      },
      "source": [
        ""
      ],
      "execution_count": 0,
      "outputs": []
    },
    {
      "cell_type": "markdown",
      "metadata": {
        "id": "BqX52mfPfrFH",
        "colab_type": "text"
      },
      "source": [
        "# The first column is the probability of the predicted output being zero, that is 1 - 𝑝(𝑥). \n",
        "# The second column is the probability that the output is one, or 𝑝(𝑥).\n",
        "# You can use the fact that .fit() returns the model instance and chain the last two statements.\n",
        "\n",
        "# model = LogisticRegression(solver='lbfgs', C=1, random_state=0).fit(X, y)"
      ]
    },
    {
      "cell_type": "code",
      "metadata": {
        "id": "c-uGPz0agB-h",
        "colab_type": "code",
        "outputId": "1bf5c95a-f117-4ed3-e21f-b78d8be95ede",
        "colab": {
          "base_uri": "https://localhost:8080/",
          "height": 54
        }
      },
      "source": [
        "# One false positive prediction: The fourth observation is a zero that was wrongly predicted as one.\n",
        "\n",
        "print(confusion_matrix(y, model.predict(X)))"
      ],
      "execution_count": 6,
      "outputs": [
        {
          "output_type": "stream",
          "text": [
            "[[3 1]\n",
            " [0 6]]\n"
          ],
          "name": "stdout"
        }
      ]
    },
    {
      "cell_type": "markdown",
      "metadata": {
        "id": "XS4_lgDcgHCP",
        "colab_type": "text"
      },
      "source": [
        "# It’s often useful to visualize the confusion matrix. \n"
      ]
    },
    {
      "cell_type": "code",
      "metadata": {
        "id": "lAs1g0Q1gLZh",
        "colab_type": "code",
        "outputId": "bf1a378b-5f6a-4422-c295-09443294590d",
        "colab": {
          "base_uri": "https://localhost:8080/",
          "height": 270
        }
      },
      "source": [
        "cm = confusion_matrix(y, model.predict(X))\n",
        "\n",
        "plt.rcParams.update({'font.size': 16})\n",
        "fig, ax = plt.subplots(figsize=(4, 4))\n",
        "ax.imshow(cm)\n",
        "ax.grid(False)\n",
        "ax.xaxis.set(ticks=(0, 1), ticklabels=('Predicted 0s', 'Predicted 1s'))\n",
        "ax.yaxis.set(ticks=(0, 1), ticklabels=('Actual 0s', 'Actual 1s'))\n",
        "ax.set_ylim(1.5, -0.5)\n",
        "for i in range(2):\n",
        "    for j in range(2):\n",
        "        ax.text(j, i, cm[i, j], ha='center', va='center', color='red')\n",
        "plt.show()\n"
      ],
      "execution_count": 7,
      "outputs": [
        {
          "output_type": "display_data",
          "data": {
            "image/png": "[encoded data removed]",
            "text/plain": [
              "<Figure size 288x288 with 1 Axes>"
            ]
          },
          "metadata": {
            "tags": [],
            "needs_background": "light"
          }
        }
      ]
    },
    {
      "cell_type": "code",
      "metadata": {
        "id": "NGTQ9gZvy4un",
        "colab_type": "code",
        "outputId": "2dc03b9e-4b3e-409b-efef-a7f051af1343",
        "colab": {
          "base_uri": "https://localhost:8080/",
          "height": 184
        }
      },
      "source": [
        "print(classification_report(y, model.predict(X)))\n"
      ],
      "execution_count": 8,
      "outputs": [
        {
          "output_type": "stream",
          "text": [
            "              precision    recall  f1-score   support\n",
            "\n",
            "           0       1.00      0.75      0.86         4\n",
            "           1       0.86      1.00      0.92         6\n",
            "\n",
            "    accuracy                           0.90        10\n",
            "   macro avg       0.93      0.88      0.89        10\n",
            "weighted avg       0.91      0.90      0.90        10\n",
            "\n"
          ],
          "name": "stdout"
        }
      ]
    },
    {
      "cell_type": "markdown",
      "metadata": {
        "id": "dcGPVrMny0AE",
        "colab_type": "text"
      },
      "source": [
        "# The code above creates a heatmap that represents the confusion matrix:\n",
        "# You can get a more comprehensive report on the classification with"
      ]
    },
    {
      "cell_type": "code",
      "metadata": {
        "id": "cEhwFRCwz1cV",
        "colab_type": "code",
        "outputId": "439eb809-5867-4b11-e88e-e8894e638e66",
        "colab": {
          "base_uri": "https://localhost:8080/",
          "height": 608
        }
      },
      "source": [
        "# from utilities2 import plot_classifier, plot_confusion_matrix\n",
        "import seaborn as sns\n",
        "\n",
        "def ap_log_regplot(ap_X, ap_y):\n",
        "    plt.figure(figsize=(10,5))\n",
        "    sns.regplot(ap_X, model.predict(X), logistic=True, color='green')\n",
        "    return None\n",
        "\n",
        "#ap_log_regplot(X, y)\n",
        "#plt.show()\n",
        "sns.set(style = 'whitegrid')\n",
        "sns.regplot(X, model.predict_proba(X)[:,1], logistic=True, \n",
        "                       scatter_kws={\"color\": \"red\"}, line_kws={\"color\": \"blue\"}) #label=model.predict(X))\n",
        "# sns.regplot(X, model.predict(X), logistic=True)\n",
        "plt.title('Logistic Probability Plot')\n",
        "plt.show()\n",
        "\n",
        "#df_confusion_matrix=pd.crosstab(y,model.predict(X)[:,1],rownames=['Actual'],colnames=['Predicted'], normalize=True)\n",
        "#plot_confusion_matrix(df_confusion_matrix, title='Cell Confusion matrix', cmap=plt.cm.Paired)\n",
        "sns.heatmap(cm,  annot=True)\n",
        "plt.title('heatmap confusion matrix')\n",
        "plt.show()"
      ],
      "execution_count": 9,
      "outputs": [
        {
          "output_type": "stream",
          "text": [
            "/usr/local/lib/python3.6/dist-packages/statsmodels/tools/_testing.py:19: FutureWarning: pandas.util.testing is deprecated. Use the functions in the public API at pandas.testing instead.\n",
            "  import pandas.util.testing as tm\n"
          ],
          "name": "stderr"
        },
        {
          "output_type": "display_data",
          "data": {
            "image/png": "[encoded data removed]",
            "text/plain": [
              "<Figure size 432x288 with 1 Axes>"
            ]
          },
          "metadata": {
            "tags": []
          }
        },
        {
          "output_type": "display_data",
          "data": {
            "image/png": "[encoded data removed]",
            "text/plain": [
              "<Figure size 432x288 with 2 Axes>"
            ]
          },
          "metadata": {
            "tags": []
          }
        }
      ]
    },
    {
      "cell_type": "markdown",
      "metadata": {
        "id": "lOr4XWiU0kSX",
        "colab_type": "text"
      },
      "source": [
        "\n",
        "Now we improve our model with the exchange of the solver from liblinear to lbfgs:\n",
        "\n",
        "---\n",
        "\n",
        "\n"
      ]
    },
    {
      "cell_type": "code",
      "metadata": {
        "id": "TuVjHYwf0v9e",
        "colab_type": "code",
        "outputId": "82077814-6528-4317-d4bd-d30919c9f0be",
        "colab": {
          "base_uri": "https://localhost:8080/",
          "height": 551
        }
      },
      "source": [
        "model = LogisticRegression(solver='lbfgs', C=1, random_state=0).fit(X, y)\n",
        "sns.set(style = 'whitegrid')\n",
        "sns.regplot(X, model.predict_proba(X)[:,1], logistic=True, \n",
        "                       scatter_kws={\"color\": \"red\"}, line_kws={\"color\": \"blue\"}) #label=model.predict(X))\n",
        "# sns.regplot(X, model.predict(X), logistic=True)\n",
        "plt.title('Logistic Probability Plot')\n",
        "plt.show()\n",
        "\n",
        "#df_confusion_matrix=pd.crosstab(y,model.predict(X)[:,1],rownames=['Actual'],colnames=['Predicted'], normalize=True)\n",
        "#plot_confusion_matrix(df_confusion_matrix, title='Cell Confusion matrix', cmap=plt.cm.Paired)\n",
        "cm = confusion_matrix(y, model.predict(X))\n",
        "sns.heatmap(cm,  annot=True)\n",
        "plt.title('heatmap confusion matrix')\n",
        "plt.show()"
      ],
      "execution_count": 10,
      "outputs": [
        {
          "output_type": "display_data",
          "data": {
            "image/png": "[encoded data removed]",
            "text/plain": [
              "<Figure size 432x288 with 1 Axes>"
            ]
          },
          "metadata": {
            "tags": []
          }
        },
        {
          "output_type": "display_data",
          "data": {
            "image/png": "[encoded data removed]",
            "text/plain": [
              "<Figure size 432x288 with 2 Axes>"
            ]
          },
          "metadata": {
            "tags": []
          }
        }
      ]
    },
    {
      "cell_type": "code",
      "metadata": {
        "id": "X7Rwblyo1yyW",
        "colab_type": "code",
        "colab": {}
      },
      "source": [
        "import statsmodels.api as sm"
      ],
      "execution_count": 0,
      "outputs": []
    },
    {
      "cell_type": "markdown",
      "metadata": {
        "id": "x_3kqEkK1rr8",
        "colab_type": "text"
      },
      "source": [
        "# You can also implement AND study logistic regression in Python with the StatsModels package. \n"
      ]
    },
    {
      "cell_type": "code",
      "metadata": {
        "id": "mCj9Kk7w15Re",
        "colab_type": "code",
        "outputId": "9703f59e-7b24-432b-99fa-15b25b32e728",
        "colab": {
          "base_uri": "https://localhost:8080/",
          "height": 982
        }
      },
      "source": [
        "y = np.array([0, 1, 0, 0, 1, 1, 1, 1, 1, 1])\n",
        "x = sm.add_constant(X)\n",
        "print(x, y)\n",
        "\n",
        "smodel = sm.Logit(y, x)\n",
        "\n",
        "result = smodel.fit(method='newton')\n",
        "print(result.params)\n",
        "print(result.predict(x))\n",
        "print((result.predict(x) >= 0.5).astype(int))\n",
        "print(result.pred_table())\n",
        "print(result.summary(),'\\n')\n",
        "\n",
        "# These are detailed reports with values that you can obtain with appropriate methods and attributes. \n",
        "\n",
        "print(result.summary2())\n",
        "\n",
        "# For more information, check out the official documentation related to LogitResults.\n",
        "# https://www.statsmodels.org/stable/generated/statsmodels.discrete.discrete_model.LogitResults.html\n"
      ],
      "execution_count": 12,
      "outputs": [
        {
          "output_type": "stream",
          "text": [
            "[[1. 0.]\n",
            " [1. 1.]\n",
            " [1. 2.]\n",
            " [1. 3.]\n",
            " [1. 4.]\n",
            " [1. 5.]\n",
            " [1. 6.]\n",
            " [1. 7.]\n",
            " [1. 8.]\n",
            " [1. 9.]] [0 1 0 0 1 1 1 1 1 1]\n",
            "Optimization terminated successfully.\n",
            "         Current function value: 0.350471\n",
            "         Iterations 7\n",
            "[-1.972805    0.82240094]\n",
            "[0.12208792 0.24041529 0.41872657 0.62114189 0.78864861 0.89465521\n",
            " 0.95080891 0.97777369 0.99011108 0.99563083]\n",
            "[0 0 0 1 1 1 1 1 1 1]\n",
            "[[2. 1.]\n",
            " [1. 6.]]\n",
            "                           Logit Regression Results                           \n",
            "==============================================================================\n",
            "Dep. Variable:                      y   No. Observations:                   10\n",
            "Model:                          Logit   Df Residuals:                        8\n",
            "Method:                           MLE   Df Model:                            1\n",
            "Date:                Thu, 16 Apr 2020   Pseudo R-squ.:                  0.4263\n",
            "Time:                        16:43:39   Log-Likelihood:                -3.5047\n",
            "converged:                       True   LL-Null:                       -6.1086\n",
            "Covariance Type:            nonrobust   LLR p-value:                   0.02248\n",
            "==============================================================================\n",
            "                 coef    std err          z      P>|z|      [0.025      0.975]\n",
            "------------------------------------------------------------------------------\n",
            "const         -1.9728      1.737     -1.136      0.256      -5.377       1.431\n",
            "x1             0.8224      0.528      1.557      0.119      -0.213       1.858\n",
            "============================================================================== \n",
            "\n",
            "                        Results: Logit\n",
            "===============================================================\n",
            "Model:              Logit            Pseudo R-squared: 0.426   \n",
            "Dependent Variable: y                AIC:              11.0094 \n",
            "Date:               2020-04-16 16:43 BIC:              11.6146 \n",
            "No. Observations:   10               Log-Likelihood:   -3.5047 \n",
            "Df Model:           1                LL-Null:          -6.1086 \n",
            "Df Residuals:       8                LLR p-value:      0.022485\n",
            "Converged:          1.0000           Scale:            1.0000  \n",
            "No. Iterations:     7.0000                                     \n",
            "-----------------------------------------------------------------\n",
            "          Coef.    Std.Err.      z      P>|z|     [0.025   0.975]\n",
            "-----------------------------------------------------------------\n",
            "const    -1.9728     1.7366   -1.1360   0.2560   -5.3765   1.4309\n",
            "x1        0.8224     0.5281    1.5572   0.1194   -0.2127   1.8575\n",
            "===============================================================\n",
            "\n"
          ],
          "name": "stdout"
        }
      ]
    }
  ]
}